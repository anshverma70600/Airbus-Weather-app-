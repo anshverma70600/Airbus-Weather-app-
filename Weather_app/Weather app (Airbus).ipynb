{
 "cells": [
  {
   "cell_type": "code",
   "execution_count": 46,
   "id": "aa44b98e",
   "metadata": {},
   "outputs": [],
   "source": [
    "from tkinter import *\n",
    "from tkinter import ttk\n",
    "import requests\n",
    "\n",
    "def data_get():\n",
    "    city = city_name.get()\n",
    "    data = requests.get(\"https://api.openweathermap.org/data/2.5/weather?q=\"+city+\"&appid=266d1c256c82290ce00d2b4ed37a133e\").json()\n",
    "    w_label1.config(text=data[\"weather\"][0][\"main\"])\n",
    "    type_label1.config(text=data[\"weather\"][0][\"description\"])\n",
    "    temp_label1.config(text=str(int(data[\"main\"][\"temp\"]-273.15)))\n",
    "    press_label1.config(text=data[\"main\"][\"pressure\"])\n",
    "    \n",
    "    \n",
    "win = Tk()\n",
    "win.title(\"Airbus Weather App\")\n",
    "win.geometry(\"500x560\")\n",
    "\n",
    "name_label = Label(win,text = 'Airbus Weather App',font=(\"Time New Roman\",30))\n",
    "name_label.place(x=30,y=50,height=50,width=440)\n",
    "\n",
    "list_name = [\"Andhra Pradesh\",\"Arunachal Pradesh \",\"Assam\",\"Bihar\",\"Chhattisgarh\",\"Goa\",\"Gujarat\",\"Haryana\",\"Himachal Pradesh\",\"Jammu and Kashmir\",\"Jharkhand\",\"Karnataka\",\"Kerala\",\"Madhya Pradesh\",\"Maharashtra\",\"Manipur\",\"Meghalaya\",\"Mizoram\",\"Nagaland\",\"Odisha\",\"Punjab\",\"Rajasthan\",\"Sikkim\",\"Tamil Nadu\",\"Telangana\",\"Tripura\",\"Uttar Pradesh\",\"Uttarakhand\",\"West Bengal\",\"Andaman and Nicobar Islands\",\"Chandigarh\",\"Dadra and Nagar Haveli\",\"Daman and Diu\",\"Lakshadweep\",\"National Capital Territory of Delhi\",\"Puducherry\"]\n",
    "\n",
    "city_name = StringVar()\n",
    "box = ttk.Combobox(win,text = 'Airbus Weather App',values=list_name,font=(\"Time New Roman\",15),textvariable=city_name)\n",
    "box.place(x=100,y=120,height=50,width=300)\n",
    "          \n",
    "\n",
    "\n",
    "w_label = Label(win,text = 'Climate',font=(\"Time New Roman\",15))\n",
    "w_label.place(x=30,y=260,height=40,width=210)\n",
    "w_label1 = Label(win,text = '',font=(\"Time New Roman\",15))\n",
    "w_label1.place(x=260,y=260,height=40,width=210)\n",
    " \n",
    "type_label = Label(win,text = 'Type',font=(\"Time New Roman\",15))\n",
    "type_label.place(x=30,y=320,height=40,width=210)\n",
    "type_label1 = Label(win,text = '',font=(\"Time New Roman\",15))\n",
    "type_label1.place(x=260,y=320,height=40,width=210)\n",
    "\n",
    "temp_label = Label(win,text = 'Temperature',font=(\"Time New Roman\",15))\n",
    "temp_label.place(x=30,y=380,height=40,width=210)\n",
    "temp_label1 = Label(win,text = '',font=(\"Time New Roman\",15))\n",
    "temp_label1.place(x=260,y=380,height=40,width=210)\n",
    "\n",
    "press_label = Label(win,text = 'Pressure',font=(\"Time New Roman\",15))\n",
    "press_label.place(x=30,y=440,height=40,width=210)\n",
    "press_label1 = Label(win,text = '',font=(\"Time New Roman\",15))\n",
    "press_label1.place(x=260,y=440,height=40,width=210)\n",
    "\n",
    "cright_label = Label(win,text = '© Airbus weather App by Ansh Verma',font=(\"Time New Roman\",10))\n",
    "cright_label.place(x=100,y=500,height=40,width=300)\n",
    "\n",
    "Submit_button = Button(win,text = 'Submit',font=(\"Time New Roman\",15),command=data_get)         \n",
    "Submit_button.place(x=200,y=190,height=40,width=100)\n",
    "\n",
    "\n",
    "\n",
    "win.mainloop()\n",
    "\n"
   ]
  },
  {
   "cell_type": "code",
   "execution_count": null,
   "id": "93a1d9c9",
   "metadata": {},
   "outputs": [],
   "source": []
  },
  {
   "cell_type": "code",
   "execution_count": null,
   "id": "b3eb4e20",
   "metadata": {},
   "outputs": [],
   "source": []
  }
 ],
 "metadata": {
  "kernelspec": {
   "display_name": "Python 3 (ipykernel)",
   "language": "python",
   "name": "python3"
  },
  "language_info": {
   "codemirror_mode": {
    "name": "ipython",
    "version": 3
   },
   "file_extension": ".py",
   "mimetype": "text/x-python",
   "name": "python",
   "nbconvert_exporter": "python",
   "pygments_lexer": "ipython3",
   "version": "3.9.7"
  }
 },
 "nbformat": 4,
 "nbformat_minor": 5
}
